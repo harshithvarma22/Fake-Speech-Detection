{
 "cells": [
  {
   "cell_type": "code",
   "execution_count": 1,
   "id": "5e2cc916",
   "metadata": {},
   "outputs": [],
   "source": [
    "import os\n",
    "import pandas as pd\n",
    "import numpy as np\n",
    "import librosa"
   ]
  },
  {
   "cell_type": "code",
   "execution_count": 2,
   "id": "37121765",
   "metadata": {},
   "outputs": [],
   "source": [
    "# Function to extract features from audio file\n",
    "def extract_features(file_path):\n",
    "    audio, sr = librosa.load(file_path, sr=None)\n",
    "\n",
    "    f0_mean = 0\n",
    "    \n",
    "    # Harmonics\n",
    "    harmonics = np.mean(librosa.effects.harmonic(audio))\n",
    "    \n",
    "    # Mean of audio file\n",
    "    audio_mean = np.mean(audio)\n",
    "    \n",
    "    # Standard Deviation\n",
    "    std_dev = np.std(audio)\n",
    "    \n",
    "    # Variance\n",
    "    variance = np.var(audio)\n",
    "    \n",
    "    # Coefficient of Variance\n",
    "    coeff_variance = std_dev / audio_mean\n",
    "    \n",
    "    # Duration\n",
    "    duration = librosa.get_duration(y=audio, sr=sr)\n",
    "    \n",
    "    # Spectral Envelope\n",
    "    spectral_envelope = np.mean(librosa.feature.spectral_flatness(y=audio))\n",
    "    \n",
    "    # Spectral Flux\n",
    "    spectral_flux = np.mean(librosa.onset.onset_strength(y=audio, sr=sr))\n",
    "    \n",
    "    # Spectral Energy\n",
    "    spectral_energy = np.mean(librosa.feature.rms(y=audio))\n",
    "    \n",
    "    # Spectral Centroids\n",
    "    spectral_centroids = np.mean(librosa.feature.spectral_centroid(y=audio, sr=sr))\n",
    "    \n",
    "    # MFCCs (Mel-frequency cepstral coefficients)\n",
    "    mfccs = librosa.feature.mfcc(y=audio, sr=sr, n_mfcc=13)\n",
    "    mfccs_mean = np.mean(mfccs, axis=1)\n",
    "    avg_mfccs_mean = np.mean(mfccs_mean)\n",
    "    \n",
    "#     print('Periodicity ',periodicity)\n",
    "    print('Harmonic_avg ',harmonics)\n",
    "    print('Mean ',audio_mean)\n",
    "    print('SD ',std_dev)\n",
    "    print('Variance ',variance)\n",
    "    print('Cov ',coeff_variance)\n",
    "    print('Duration',duration)\n",
    "    print('MFCC ',avg_mfccs_mean)\n",
    "    print('Spectral Envelop',spectral_envelope)\n",
    "    print('Spectral Flux ',spectral_flux)\n",
    "    print('Spectral Energy ',spectral_energy)\n",
    "    print('Spectral Centroids ', spectral_centroids)\n",
    "    \n",
    "    return [f0_mean, 1, harmonics, audio_mean, std_dev, variance, coeff_variance, duration,\n",
    "            avg_mfccs_mean,spectral_envelope, spectral_flux, spectral_energy, spectral_centroids]"
   ]
  },
  {
   "cell_type": "code",
   "execution_count": 3,
   "id": "a43d709b",
   "metadata": {},
   "outputs": [
    {
     "name": "stdout",
     "output_type": "stream",
     "text": [
      "Harmonic_avg  3.0908627e-08\n",
      "Mean  6.241449e-07\n",
      "SD  0.015955063\n",
      "Variance  0.00025456402\n",
      "Cov  25563.074\n",
      "Duration 11.9059375\n",
      "MFCC  -35.625557\n",
      "Spectral Envelop 0.00014277724\n",
      "Spectral Flux  0.80184066\n",
      "Spectral Energy  0.010758973\n",
      "Spectral Centroids  500.1117319503433\n"
     ]
    }
   ],
   "source": [
    "extracted_features=extract_features('D:/Major Project/Autocorrelated Audio Files/News/sound6/H_ac_chain.wav')\n",
    "df = pd.DataFrame([extracted_features])\n",
    "output_file = \"D:/Major Project/News_Dataset.xlsx\"\n",
    "\n",
    "if os.path.isfile(output_file):\n",
    "  \n",
    "    existing_df = pd.read_excel(output_file)\n",
    "    \n",
    "    df = pd.concat([existing_df, df], ignore_index=True)\n",
    "\n",
    "df.to_excel(output_file, index=False)\n",
    "\n"
   ]
  },
  {
   "cell_type": "code",
   "execution_count": null,
   "id": "2f3879b9",
   "metadata": {},
   "outputs": [],
   "source": []
  }
 ],
 "metadata": {
  "kernelspec": {
   "display_name": "Python 3 (ipykernel)",
   "language": "python",
   "name": "python3"
  },
  "language_info": {
   "codemirror_mode": {
    "name": "ipython",
    "version": 3
   },
   "file_extension": ".py",
   "mimetype": "text/x-python",
   "name": "python",
   "nbconvert_exporter": "python",
   "pygments_lexer": "ipython3",
   "version": "3.11.5"
  }
 },
 "nbformat": 4,
 "nbformat_minor": 5
}
